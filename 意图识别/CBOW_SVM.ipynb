{
 "cells": [
  {
   "cell_type": "code",
   "execution_count": 2,
   "outputs": [],
   "source": [
    "import pandas as pd\n",
    "import numpy as np\n",
    "import jieba\n",
    "import gensim"
   ],
   "metadata": {
    "collapsed": false
   }
  },
  {
   "cell_type": "code",
   "execution_count": 3,
   "outputs": [],
   "source": [
    "train_data=pd.read_csv(\"/data/linqinhong/kaggle/yitushibie/data/yitushibie/train.csv\",header=None,names=[\"text\",\"title\"],sep=\"\\t\")\n",
    "test_data=pd.read_csv(\"/data/linqinhong/kaggle/yitushibie/data/yitushibie/test.csv\",header=None,names=[\"text\",\"title\"],sep=\"\\t\")"
   ],
   "metadata": {
    "collapsed": false
   }
  },
  {
   "cell_type": "code",
   "execution_count": 4,
   "outputs": [
    {
     "data": {
      "text/plain": "(12100, 2)"
     },
     "execution_count": 4,
     "metadata": {},
     "output_type": "execute_result"
    }
   ],
   "source": [
    "train_data.shape"
   ],
   "metadata": {
    "collapsed": false
   }
  },
  {
   "cell_type": "code",
   "execution_count": 5,
   "outputs": [
    {
     "name": "stderr",
     "output_type": "stream",
     "text": [
      "Building prefix dict from the default dictionary ...\n",
      "Loading model from cache /tmp/jieba.cache\n",
      "Loading model cost 0.617 seconds.\n",
      "Prefix dict has been built successfully.\n"
     ]
    }
   ],
   "source": [
    "train_data[\"process\"]=train_data[\"text\"].apply(lambda x :jieba.lcut(x))"
   ],
   "metadata": {
    "collapsed": false
   }
  },
  {
   "cell_type": "code",
   "execution_count": 6,
   "outputs": [],
   "source": [
    "test_data[\"process\"]=test_data[\"text\"].apply(lambda x :jieba.lcut(x))"
   ],
   "metadata": {
    "collapsed": false
   }
  },
  {
   "cell_type": "code",
   "execution_count": 7,
   "outputs": [],
   "source": [
    "from nltk.corpus import stopwords\n",
    "stopword=stopwords.words(\"chinese\")"
   ],
   "metadata": {
    "collapsed": false
   }
  },
  {
   "cell_type": "code",
   "execution_count": 8,
   "outputs": [],
   "source": [
    "train_data[\"process\"]=train_data[\"process\"].apply(lambda x : [i for i in list(x) if i not in stopword])"
   ],
   "metadata": {
    "collapsed": false
   }
  },
  {
   "cell_type": "code",
   "execution_count": 9,
   "outputs": [],
   "source": [
    "test_data[\"process\"]=test_data[\"process\"].apply(lambda x : [i for i in x if i not in stopword])"
   ],
   "metadata": {
    "collapsed": false
   }
  },
  {
   "cell_type": "code",
   "execution_count": 10,
   "outputs": [],
   "source": [
    "process=list(train_data[\"process\"])+list(test_data[\"process\"])"
   ],
   "metadata": {
    "collapsed": false
   }
  },
  {
   "cell_type": "code",
   "execution_count": 11,
   "outputs": [],
   "source": [
    "from gensim.models.word2vec import Word2Vec,Word2VecTrainables\n",
    "CBOW=Word2Vec(sentences=process,vector_size=300,window=5,sg=0,epochs=30,workers=10,min_count=1)\n",
    "#SkIP=Word2Vec(sentences=process,vector_size=300,window=5,sg=1,epochs=30,workers=10)"
   ],
   "metadata": {
    "collapsed": false
   }
  },
  {
   "cell_type": "code",
   "execution_count": 12,
   "outputs": [],
   "source": [
    "def get_vec(text):\n",
    "    total_vec=[]\n",
    "    if text==[]:\n",
    "        return None\n",
    "    for word in text:\n",
    "        index=CBOW.wv.key_to_index[word]\n",
    "        vec=np.reshape(CBOW.wv[index],(1,300))\n",
    "        #vec=(CBOW.wv[index])\n",
    "        total_vec.append(vec)\n",
    "    return np.mean(total_vec,axis=0)"
   ],
   "metadata": {
    "collapsed": false
   }
  },
  {
   "cell_type": "code",
   "execution_count": 13,
   "outputs": [],
   "source": [
    "vocab=CBOW.wv.index_to_key"
   ],
   "metadata": {
    "collapsed": false
   }
  },
  {
   "cell_type": "code",
   "execution_count": 14,
   "outputs": [
    {
     "data": {
      "text/plain": "Empty DataFrame\nColumns: [text, title, process]\nIndex: []",
      "text/html": "<div>\n<style scoped>\n    .dataframe tbody tr th:only-of-type {\n        vertical-align: middle;\n    }\n\n    .dataframe tbody tr th {\n        vertical-align: top;\n    }\n\n    .dataframe thead th {\n        text-align: right;\n    }\n</style>\n<table border=\"1\" class=\"dataframe\">\n  <thead>\n    <tr style=\"text-align: right;\">\n      <th></th>\n      <th>text</th>\n      <th>title</th>\n      <th>process</th>\n    </tr>\n  </thead>\n  <tbody>\n  </tbody>\n</table>\n</div>"
     },
     "execution_count": 14,
     "metadata": {},
     "output_type": "execute_result"
    }
   ],
   "source": [
    "train_data[train_data[\"process\"].isnull()==True]"
   ],
   "metadata": {
    "collapsed": false
   }
  },
  {
   "cell_type": "code",
   "execution_count": 15,
   "outputs": [],
   "source": [
    "#train_data[\"process\"]=train_data[\"process\"].apply(lambda x : [i for i in list(x) if i  in vocab])"
   ],
   "metadata": {
    "collapsed": false
   }
  },
  {
   "cell_type": "code",
   "execution_count": 16,
   "outputs": [],
   "source": [
    "#test_data[\"process\"]=test_data[\"process\"].apply(lambda x : [i for i in list(x) if i  in vocab])"
   ],
   "metadata": {
    "collapsed": false
   }
  },
  {
   "cell_type": "code",
   "execution_count": 17,
   "outputs": [
    {
     "data": {
      "text/plain": "0                     [双鸭山, 淮阴, 汽车票, 13, 号]\n1                                      [回家]\n2            [随便, 播放, 一首, 专辑, 阁楼, 里, 佛里, 歌]\n3                               [看, 墓, 王之王]\n4    [想, 看, 挑战, 两把, s686, 突变, 团, 竞, 游戏, 视频]\nName: process, dtype: object"
     },
     "execution_count": 17,
     "metadata": {},
     "output_type": "execute_result"
    }
   ],
   "source": [
    "train_data[\"process\"].head()"
   ],
   "metadata": {
    "collapsed": false
   }
  },
  {
   "cell_type": "code",
   "execution_count": 18,
   "outputs": [],
   "source": [
    "train_data[\"vec\"]=train_data[\"process\"].apply(get_vec)"
   ],
   "metadata": {
    "collapsed": false
   }
  },
  {
   "cell_type": "code",
   "execution_count": 19,
   "outputs": [],
   "source": [
    "train_data.dropna(inplace=True)"
   ],
   "metadata": {
    "collapsed": false
   }
  },
  {
   "cell_type": "code",
   "execution_count": 25,
   "outputs": [
    {
     "data": {
      "text/plain": "                              text                  title  \\\n12095        一千六百五十三加三千一百六十五点六五等于几         Calendar-Query   \n12096                    稍小点客厅空调风速  HomeAppliance-Control   \n12097  黎耀祥陈豪邓萃雯畲诗曼陈法拉敖嘉年杨怡马浚伟等到场出席           Radio-Listen   \n12098                百事盖世群星星光演唱会有谁             Video-Play   \n12099               下周一视频会议的闹钟帮我开开           Alarm-Update   \n\n                                                process  \\\n12095                [一千六百五十, 三加, 三千, 一百六十五, 点, 六五, 等于]   \n12096                               [稍, 小点, 客厅, 空调, 风速]   \n12097  [黎耀祥, 陈豪, 邓萃雯, 畲诗曼, 陈, 法拉, 敖嘉年, 杨怡, 马浚伟, 到场, 出席]   \n12098                             [百事, 盖世, 群星, 星光, 演唱会]   \n12099                            [下周一, 视频会议, 闹钟, 帮, 开开]   \n\n                                                     vec  \n12095  [[-0.06534369, 0.16485937, 0.015077536, 0.2188...  \n12096  [[-0.25253206, 0.018118115, 0.28470963, -0.185...  \n12097  [[0.070833184, 0.11093459, -0.067549996, 0.102...  \n12098  [[0.22407424, 0.2214632, -0.04750567, 0.212994...  \n12099  [[0.097743995, 0.56906253, 0.28076488, -0.0851...  ",
      "text/html": "<div>\n<style scoped>\n    .dataframe tbody tr th:only-of-type {\n        vertical-align: middle;\n    }\n\n    .dataframe tbody tr th {\n        vertical-align: top;\n    }\n\n    .dataframe thead th {\n        text-align: right;\n    }\n</style>\n<table border=\"1\" class=\"dataframe\">\n  <thead>\n    <tr style=\"text-align: right;\">\n      <th></th>\n      <th>text</th>\n      <th>title</th>\n      <th>process</th>\n      <th>vec</th>\n    </tr>\n  </thead>\n  <tbody>\n    <tr>\n      <th>12095</th>\n      <td>一千六百五十三加三千一百六十五点六五等于几</td>\n      <td>Calendar-Query</td>\n      <td>[一千六百五十, 三加, 三千, 一百六十五, 点, 六五, 等于]</td>\n      <td>[[-0.06534369, 0.16485937, 0.015077536, 0.2188...</td>\n    </tr>\n    <tr>\n      <th>12096</th>\n      <td>稍小点客厅空调风速</td>\n      <td>HomeAppliance-Control</td>\n      <td>[稍, 小点, 客厅, 空调, 风速]</td>\n      <td>[[-0.25253206, 0.018118115, 0.28470963, -0.185...</td>\n    </tr>\n    <tr>\n      <th>12097</th>\n      <td>黎耀祥陈豪邓萃雯畲诗曼陈法拉敖嘉年杨怡马浚伟等到场出席</td>\n      <td>Radio-Listen</td>\n      <td>[黎耀祥, 陈豪, 邓萃雯, 畲诗曼, 陈, 法拉, 敖嘉年, 杨怡, 马浚伟, 到场, 出席]</td>\n      <td>[[0.070833184, 0.11093459, -0.067549996, 0.102...</td>\n    </tr>\n    <tr>\n      <th>12098</th>\n      <td>百事盖世群星星光演唱会有谁</td>\n      <td>Video-Play</td>\n      <td>[百事, 盖世, 群星, 星光, 演唱会]</td>\n      <td>[[0.22407424, 0.2214632, -0.04750567, 0.212994...</td>\n    </tr>\n    <tr>\n      <th>12099</th>\n      <td>下周一视频会议的闹钟帮我开开</td>\n      <td>Alarm-Update</td>\n      <td>[下周一, 视频会议, 闹钟, 帮, 开开]</td>\n      <td>[[0.097743995, 0.56906253, 0.28076488, -0.0851...</td>\n    </tr>\n  </tbody>\n</table>\n</div>"
     },
     "execution_count": 25,
     "metadata": {},
     "output_type": "execute_result"
    }
   ],
   "source": [
    "train_data.tail()"
   ],
   "metadata": {
    "collapsed": false
   }
  },
  {
   "cell_type": "code",
   "execution_count": 28,
   "outputs": [],
   "source": [
    "train_data.reset_index(drop=True,inplace=True)"
   ],
   "metadata": {
    "collapsed": false
   }
  },
  {
   "cell_type": "code",
   "execution_count": 29,
   "outputs": [],
   "source": [
    "#train_data[train_data[\"vec\"].isnull()==True]"
   ],
   "metadata": {
    "collapsed": false
   }
  },
  {
   "cell_type": "code",
   "execution_count": 30,
   "outputs": [],
   "source": [
    "from sklearnex import patch_sklearn"
   ],
   "metadata": {
    "collapsed": false
   }
  },
  {
   "cell_type": "code",
   "execution_count": 31,
   "outputs": [
    {
     "name": "stderr",
     "output_type": "stream",
     "text": [
      "Intel(R) Extension for Scikit-learn* enabled (https://github.com/intel/scikit-learn-intelex)\n"
     ]
    }
   ],
   "source": [
    "patch_sklearn()"
   ],
   "metadata": {
    "collapsed": false
   }
  },
  {
   "cell_type": "code",
   "execution_count": 32,
   "outputs": [],
   "source": [
    "labelsset=set(train_data[\"title\"])\n",
    "labelsdict={}\n",
    "reverser_dict={}\n",
    "for index,keys in enumerate(labelsset):\n",
    "    labelsdict[keys]=index\n",
    "for index,keys in enumerate(labelsset):\n",
    "    reverser_dict[index]=keys"
   ],
   "metadata": {
    "collapsed": false
   }
  },
  {
   "cell_type": "code",
   "execution_count": 33,
   "outputs": [],
   "source": [
    "def convert(text):\n",
    "    return labelsdict[text]"
   ],
   "metadata": {
    "collapsed": false
   }
  },
  {
   "cell_type": "code",
   "execution_count": 34,
   "outputs": [],
   "source": [
    "train_data[\"label\"]=train_data[\"title\"].apply(convert)"
   ],
   "metadata": {
    "collapsed": false
   }
  },
  {
   "cell_type": "code",
   "execution_count": 35,
   "outputs": [],
   "source": [
    "from sklearn.model_selection import KFold\n",
    "KF=KFold(n_splits=5,shuffle=True,random_state=3407)"
   ],
   "metadata": {
    "collapsed": false
   }
  },
  {
   "cell_type": "code",
   "execution_count": 36,
   "outputs": [],
   "source": [
    "result=KF.split(train_data,train_data[\"label\"])"
   ],
   "metadata": {
    "collapsed": false
   }
  },
  {
   "cell_type": "code",
   "execution_count": 37,
   "outputs": [],
   "source": [
    "from sklearn.svm import SVC\n",
    "classifier1=SVC(kernel=\"linear\")"
   ],
   "metadata": {
    "collapsed": false
   }
  },
  {
   "cell_type": "code",
   "execution_count": 50,
   "outputs": [],
   "source": [
    "score=[]\n",
    "result=KF.split(train_data,train_data[\"label\"])\n",
    "for train_split,val_split in result:\n",
    "    train1=np.concatenate(list(train_data[\"vec\"][train_split]),axis=0)\n",
    "    train2=np.array(list(train_data[\"label\"][train_split]))\n",
    "    val1=np.concatenate(list(train_data[\"vec\"][val_split]),axis=0)\n",
    "    val2=np.array(list(train_data[\"label\"][val_split]))\n",
    "    classifier1.fit(train1,train2)\n",
    "    a=classifier1.score(val1,val2)\n",
    "    score.append(a)"
   ],
   "metadata": {
    "collapsed": false
   }
  },
  {
   "cell_type": "code",
   "execution_count": 51,
   "outputs": [
    {
     "data": {
      "text/plain": "[0.893801652892562,\n 0.8900826446280992,\n 0.8756198347107438,\n 0.8917355371900827,\n 0.8970649028524184]"
     },
     "execution_count": 51,
     "metadata": {},
     "output_type": "execute_result"
    }
   ],
   "source": [
    "score"
   ],
   "metadata": {
    "collapsed": false
   }
  },
  {
   "cell_type": "code",
   "execution_count": 57,
   "outputs": [
    {
     "data": {
      "text/plain": "array([1, 2])"
     },
     "execution_count": 57,
     "metadata": {},
     "output_type": "execute_result"
    }
   ],
   "source": [
    "np.array([1,2])"
   ],
   "metadata": {
    "collapsed": false
   }
  },
  {
   "cell_type": "code",
   "execution_count": 365,
   "outputs": [
    {
     "data": {
      "text/plain": "(9679,)"
     },
     "execution_count": 365,
     "metadata": {},
     "output_type": "execute_result"
    }
   ],
   "source": [
    "train_data[\"vec\"][train_split].shape"
   ],
   "metadata": {
    "collapsed": false
   }
  },
  {
   "cell_type": "code",
   "execution_count": 357,
   "outputs": [
    {
     "data": {
      "text/plain": "array([array([[ 3.49690905e-03,  5.33515096e-01,  3.72333638e-02,\n                2.43576199e-01, -2.67117433e-02,  1.47435009e-01,\n                3.92756701e-01,  1.36524081e-01, -2.11882833e-02,\n                3.83401513e-01, -1.87212750e-01, -2.68994242e-01,\n               -2.38685846e-01,  1.72136158e-01, -1.03461817e-01,\n               -6.13948405e-01, -6.25201687e-02,  9.88147184e-02,\n                2.05174953e-01, -4.20626998e-02, -7.73143992e-02,\n               -1.10026598e-01, -3.46524239e-01, -1.23390080e-02,\n               -9.60007310e-02, -1.94856703e-01, -4.70454127e-01,\n               -8.06550235e-02, -3.58776569e-01, -2.83065140e-01,\n               -2.10716322e-01, -1.68614537e-01,  2.76705652e-01,\n               -2.99218237e-01, -4.95905578e-02,  9.06550437e-02,\n                3.96565378e-01,  1.93912983e-01, -2.51983702e-01,\n                2.38689378e-01, -3.00589651e-01,  2.28878856e-02,\n               -9.63483937e-03,  1.53115064e-01,  1.63335815e-01,\n                2.70683348e-01, -2.73370117e-01, -8.96486640e-02,\n                6.69788063e-01,  3.37861538e-01, -1.80707201e-01,\n                1.14028014e-01, -2.92293072e-01,  1.26475379e-01,\n               -1.30484102e-03,  1.54184103e-01,  8.30685347e-02,\n               -1.58906922e-01,  2.68030047e-01, -9.51045305e-02,\n               -1.76360965e-01, -8.55608210e-02,  1.50290400e-01,\n               -2.37415001e-01, -1.73912808e-01, -1.77474782e-01,\n                4.40337136e-02,  4.19656277e-01, -1.42631739e-01,\n                1.17577471e-01,  1.57572026e-03,  3.60294640e-01,\n               -4.65417914e-02, -2.01778501e-01,  1.47878289e-01,\n                4.28028762e-01, -3.72638911e-01,  2.31150955e-01,\n               -9.00293607e-03,  8.57440382e-02, -4.98964965e-01,\n               -3.17270666e-01,  6.15414977e-02,  2.82500923e-01,\n                1.22173011e-01, -5.58368340e-02, -4.11721617e-01,\n                1.92548689e-02,  4.88913625e-01,  2.58353531e-01,\n               -9.94643010e-03,  1.26193255e-01,  6.52620643e-02,\n               -8.67351443e-02, -4.83393855e-02,  3.59256864e-01,\n                4.29980338e-01,  4.22618479e-01, -2.46275276e-01,\n                3.22425306e-01,  1.89462245e-01, -1.50102764e-01,\n                4.46624994e-01,  3.75603586e-01,  2.14764878e-01,\n                2.55461782e-02,  8.32186267e-02, -8.00747648e-02,\n               -8.55278149e-02, -2.70298362e-01, -1.37653679e-01,\n                1.34144813e-01,  1.60536751e-01,  1.81458920e-01,\n                2.89138943e-01,  4.06007439e-01, -4.46973234e-01,\n                8.43147263e-02,  9.09319445e-02, -2.62546778e-01,\n               -6.09122328e-02,  5.68773568e-01, -1.16679810e-01,\n               -6.98083919e-03, -2.68498600e-01,  5.19484282e-04,\n               -2.18664378e-01, -1.11300968e-01,  6.93353564e-02,\n                4.15323108e-01,  7.39630777e-03,  4.37512338e-01,\n                1.16023637e-01, -4.65881586e-01, -2.23224446e-01,\n                5.21089852e-01, -3.04933697e-01, -9.74541456e-02,\n               -6.08067632e-01, -5.98932147e-01, -1.94505185e-01,\n               -1.07973769e-01,  4.10517044e-02,  3.88971269e-01,\n                2.41552919e-01,  1.34132817e-01, -3.13369095e-01,\n               -2.89934218e-01, -2.76575927e-02,  1.52012795e-01,\n                5.52090593e-02, -3.78072947e-01, -1.56569411e-03,\n                4.15773809e-01, -2.54756898e-01,  1.57517537e-01,\n               -3.07253718e-01,  2.94677969e-02, -1.67585567e-01,\n               -1.06312032e-03,  3.02555323e-01,  1.72800526e-01,\n               -4.60586309e-01, -1.85614318e-01, -1.56239316e-01,\n                2.52694517e-01, -1.42393067e-01, -1.56354085e-01,\n                1.95596933e-01,  2.12355539e-01, -2.47608751e-01,\n                5.23070514e-01,  3.42904001e-01, -1.59444064e-01,\n                5.82240760e-01, -4.02052969e-01, -4.00066786e-02,\n                1.15406416e-01, -3.95552814e-01,  1.06903993e-01,\n                1.75042495e-01,  1.55036241e-01, -3.37658793e-01,\n               -4.98406708e-01, -2.11530879e-01,  2.79766828e-01,\n                2.25433543e-01, -4.29013401e-01,  2.10479587e-01,\n               -6.79415405e-01, -1.64801776e-01, -1.37393668e-01,\n               -2.84593493e-01,  2.70981878e-01,  1.47894412e-01,\n               -7.07705393e-02, -1.01481557e-01, -9.54652876e-02,\n               -1.73415095e-01,  2.11821739e-02, -2.43924901e-01,\n               -3.36411208e-01, -2.09590606e-02, -1.93366021e-01,\n               -1.14936985e-01, -5.77538721e-02, -1.75073624e-01,\n               -2.28675365e-01, -1.04373954e-01,  9.33118686e-02,\n               -3.25218618e-01, -7.67994106e-01, -2.19700605e-01,\n                2.57403076e-01, -1.42321303e-01, -6.16194129e-01,\n               -4.29037750e-01, -1.11452840e-01, -1.41495541e-01,\n                1.88462585e-01,  4.77566332e-01, -1.54686600e-01,\n               -2.72671759e-01,  7.92741403e-02,  1.61832608e-02,\n                9.97786969e-02,  1.02238357e-01, -8.22915584e-02,\n               -4.21215370e-02, -2.10067824e-01, -3.04879934e-01,\n                8.72212946e-02, -1.14064291e-01,  1.89090177e-01,\n                3.22857082e-01,  3.19704115e-01, -4.55126286e-01,\n                3.38871256e-02,  3.90215009e-01, -4.46147263e-01,\n                9.33737010e-02, -6.46938309e-02,  3.97623688e-01,\n               -1.40772387e-02,  1.00639977e-01, -4.41396147e-01,\n                4.70311418e-02,  2.90613472e-01,  4.37422454e-01,\n                2.71682978e-01,  3.32755506e-01,  2.16211036e-01,\n                3.15789104e-01, -2.28089243e-01, -2.06522554e-01,\n               -1.47877093e-02,  5.73644042e-01,  3.12719107e-01,\n               -5.17569542e-01,  4.37510580e-01,  1.75232023e-01,\n               -2.97308624e-01,  2.43991897e-01, -1.71443913e-02,\n               -2.05927178e-01, -1.30354136e-01,  2.27671057e-01,\n                2.76311964e-01,  3.68098617e-01,  2.46420950e-01,\n                5.12228012e-02, -5.15412688e-01, -3.25652748e-01,\n               -5.06113749e-03,  1.18775651e-01,  4.15553182e-01,\n                6.32069290e-01,  1.64726406e-01,  8.52869302e-02,\n                3.38024157e-03, -3.91354971e-02,  3.38614672e-01,\n                3.24077494e-02, -5.42022660e-02,  2.03642607e-01,\n                9.53645185e-02,  7.45501399e-01, -7.89810494e-02,\n                4.99688447e-01,  5.39185405e-01,  7.86886178e-03,\n               -1.60551816e-01,  1.35079296e-02,  3.94860089e-01,\n               -3.34526296e-03,  2.14932963e-01,  1.31375700e-01,\n               -1.89648598e-01,  3.64938602e-02, -2.18780592e-01]], dtype=float32)],\n      dtype=object)"
     },
     "execution_count": 357,
     "metadata": {},
     "output_type": "execute_result"
    }
   ],
   "source": [
    "np.array(train_data[\"vec\"])[[0]]"
   ],
   "metadata": {
    "collapsed": false
   }
  },
  {
   "cell_type": "code",
   "execution_count": 360,
   "outputs": [
    {
     "data": {
      "text/plain": "(1, 300)"
     },
     "execution_count": 360,
     "metadata": {},
     "output_type": "execute_result"
    }
   ],
   "source": [
    "get_vec(train_data[\"process\"][0]).shape"
   ],
   "metadata": {
    "collapsed": false
   }
  },
  {
   "cell_type": "code",
   "execution_count": 362,
   "outputs": [
    {
     "data": {
      "text/plain": "(1, 300)"
     },
     "execution_count": 362,
     "metadata": {},
     "output_type": "execute_result"
    }
   ],
   "source": [
    "np.array(train_data[\"vec\"][0]).shape"
   ],
   "metadata": {
    "collapsed": false
   }
  },
  {
   "cell_type": "code",
   "execution_count": null,
   "outputs": [],
   "source": [],
   "metadata": {
    "collapsed": false
   }
  }
 ],
 "metadata": {
  "kernelspec": {
   "display_name": "Python 3",
   "language": "python",
   "name": "python3"
  },
  "language_info": {
   "codemirror_mode": {
    "name": "ipython",
    "version": 2
   },
   "file_extension": ".py",
   "mimetype": "text/x-python",
   "name": "python",
   "nbconvert_exporter": "python",
   "pygments_lexer": "ipython2",
   "version": "2.7.6"
  }
 },
 "nbformat": 4,
 "nbformat_minor": 0
}
